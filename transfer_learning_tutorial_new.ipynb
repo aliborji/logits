{
  "cells": [
    {
      "cell_type": "code",
      "execution_count": 29,
      "metadata": {
        "id": "8-nrMmi8XcuJ"
      },
      "outputs": [],
      "source": [
        "%matplotlib inline"
      ]
    },
    {
      "cell_type": "code",
      "source": [
        "# global params\n",
        "trained =  True # loads models with random weight and not pretrained weights\n",
        "case = 'unnormalized'\n",
        "only_tune_last_layer = True\n",
        "train_models = True\n",
        "# epochs = 10 # for Bees and 6 for CIFAR\n",
        "which_db = 'CIFAR10'\n",
        "\n",
        "num_data = 10000 if which_db=='Bees' else 1000\n",
        "epochs = 10 if which_db=='Bees' else 6"
      ],
      "metadata": {
        "id": "DXjqClFRu9ug"
      },
      "execution_count": 32,
      "outputs": []
    },
    {
      "cell_type": "code",
      "execution_count": 33,
      "metadata": {
        "id": "Ef55AMmfXcuL",
        "colab": {
          "base_uri": "https://localhost:8080/"
        },
        "outputId": "9f5484a8-bd38-4f53-b14f-107ae22726f2"
      },
      "outputs": [
        {
          "output_type": "stream",
          "name": "stdout",
          "text": [
            "Looking in indexes: https://pypi.org/simple, https://us-python.pkg.dev/colab-wheels/public/simple/\n",
            "Requirement already satisfied: timm in /usr/local/lib/python3.7/dist-packages (0.6.11)\n",
            "Requirement already satisfied: pyyaml in /usr/local/lib/python3.7/dist-packages (from timm) (6.0)\n",
            "Requirement already satisfied: torchvision in /usr/local/lib/python3.7/dist-packages (from timm) (0.13.1+cu113)\n",
            "Requirement already satisfied: huggingface-hub in /usr/local/lib/python3.7/dist-packages (from timm) (0.10.1)\n",
            "Requirement already satisfied: torch>=1.7 in /usr/local/lib/python3.7/dist-packages (from timm) (1.12.1+cu113)\n",
            "Requirement already satisfied: typing-extensions in /usr/local/lib/python3.7/dist-packages (from torch>=1.7->timm) (4.1.1)\n",
            "Requirement already satisfied: tqdm in /usr/local/lib/python3.7/dist-packages (from huggingface-hub->timm) (4.64.1)\n",
            "Requirement already satisfied: filelock in /usr/local/lib/python3.7/dist-packages (from huggingface-hub->timm) (3.8.0)\n",
            "Requirement already satisfied: requests in /usr/local/lib/python3.7/dist-packages (from huggingface-hub->timm) (2.23.0)\n",
            "Requirement already satisfied: packaging>=20.9 in /usr/local/lib/python3.7/dist-packages (from huggingface-hub->timm) (21.3)\n",
            "Requirement already satisfied: importlib-metadata in /usr/local/lib/python3.7/dist-packages (from huggingface-hub->timm) (4.13.0)\n",
            "Requirement already satisfied: pyparsing!=3.0.5,>=2.0.2 in /usr/local/lib/python3.7/dist-packages (from packaging>=20.9->huggingface-hub->timm) (3.0.9)\n",
            "Requirement already satisfied: zipp>=0.5 in /usr/local/lib/python3.7/dist-packages (from importlib-metadata->huggingface-hub->timm) (3.10.0)\n",
            "Requirement already satisfied: chardet<4,>=3.0.2 in /usr/local/lib/python3.7/dist-packages (from requests->huggingface-hub->timm) (3.0.4)\n",
            "Requirement already satisfied: certifi>=2017.4.17 in /usr/local/lib/python3.7/dist-packages (from requests->huggingface-hub->timm) (2022.9.24)\n",
            "Requirement already satisfied: idna<3,>=2.5 in /usr/local/lib/python3.7/dist-packages (from requests->huggingface-hub->timm) (2.10)\n",
            "Requirement already satisfied: urllib3!=1.25.0,!=1.25.1,<1.26,>=1.21.1 in /usr/local/lib/python3.7/dist-packages (from requests->huggingface-hub->timm) (1.24.3)\n",
            "Requirement already satisfied: numpy in /usr/local/lib/python3.7/dist-packages (from torchvision->timm) (1.21.6)\n",
            "Requirement already satisfied: pillow!=8.3.*,>=5.3.0 in /usr/local/lib/python3.7/dist-packages (from torchvision->timm) (7.1.2)\n"
          ]
        }
      ],
      "source": [
        "# License: BSD\n",
        "# Author: Sasank Chilamkurthy\n",
        "\n",
        "from __future__ import print_function, division\n",
        "\n",
        "import torch\n",
        "import torch.nn as nn\n",
        "import torch.optim as optim\n",
        "from torch.optim import lr_scheduler\n",
        "import torch.backends.cudnn as cudnn\n",
        "import numpy as np\n",
        "import torchvision\n",
        "from torchvision import datasets, models, transforms\n",
        "import matplotlib.pyplot as plt\n",
        "import time\n",
        "import os\n",
        "import copy\n",
        "\n",
        "cudnn.benchmark = True\n",
        "plt.ion()   # interactive mode\n",
        "\n",
        "\n",
        "import torchvision.transforms as transforms\n",
        "\n",
        "!pip install timm\n",
        "\n",
        "\n",
        "from sklearn.datasets import load_iris\n",
        "from sklearn.linear_model import LogisticRegression\n"
      ]
    },
    {
      "cell_type": "code",
      "source": [
        "if which_db=='Bees':\n",
        "  !wget https://download.pytorch.org/tutorial/hymenoptera_data.zip\n",
        "  !mkdir data\n",
        "  !unzip hymenoptera_data.zip\n",
        "  !mv hymenoptera_data ./data"
      ],
      "metadata": {
        "id": "-5fLr2hsXp1U"
      },
      "execution_count": 34,
      "outputs": []
    },
    {
      "cell_type": "markdown",
      "metadata": {
        "id": "bZKwVZ4nXcuM"
      },
      "source": [
        "## Load Data\n",
        "\n",
        "We will use torchvision and torch.utils.data packages for loading the\n",
        "data.\n",
        "\n",
        "The problem we're going to solve today is to train a model to classify\n",
        "**ants** and **bees**. We have about 120 training images each for ants and bees.\n",
        "There are 75 validation images for each class. Usually, this is a very\n",
        "small dataset to generalize upon, if trained from scratch. Since we\n",
        "are using transfer learning, we should be able to generalize reasonably\n",
        "well.\n",
        "\n",
        "This dataset is a very small subset of imagenet.\n",
        "\n",
        ".. Note ::\n",
        "   Download the data from\n",
        "   [here](https://download.pytorch.org/tutorial/hymenoptera_data.zip)\n",
        "   and extract it to the current directory.\n",
        "\n"
      ]
    },
    {
      "cell_type": "code",
      "execution_count": 35,
      "metadata": {
        "id": "-HO0tpA6XcuM"
      },
      "outputs": [],
      "source": [
        "if which_db=='Bees':\n",
        "  # Data augmentation and normalization for training\n",
        "  # Just normalization for validation\n",
        "  data_transforms = {\n",
        "      'train': transforms.Compose([\n",
        "          transforms.RandomResizedCrop(224),\n",
        "          transforms.RandomHorizontalFlip(),\n",
        "          transforms.ToTensor(),\n",
        "          transforms.Normalize([0.485, 0.456, 0.406], [0.229, 0.224, 0.225])\n",
        "      ]),\n",
        "      'val': transforms.Compose([\n",
        "          transforms.Resize(256),\n",
        "          transforms.CenterCrop(224),\n",
        "          transforms.ToTensor(),\n",
        "          transforms.Normalize([0.485, 0.456, 0.406], [0.229, 0.224, 0.225])\n",
        "      ]),\n",
        "  }\n",
        "\n",
        "  data_dir = 'data/hymenoptera_data'\n",
        "  image_datasets = {x: datasets.ImageFolder(os.path.join(data_dir, x),\n",
        "                                            data_transforms[x])\n",
        "                    for x in ['train', 'val']}\n",
        "  dataloaders = {x: torch.utils.data.DataLoader(image_datasets[x], batch_size=4,\n",
        "                                              shuffle=True, num_workers=4)\n",
        "                for x in ['train', 'val']}\n",
        "  dataset_sizes = {x: len(image_datasets[x]) for x in ['train', 'val']}\n",
        "  class_names = image_datasets['train'].classes\n",
        "\n",
        "  device = torch.device(\"cuda:0\" if torch.cuda.is_available() else \"cpu\")"
      ]
    },
    {
      "cell_type": "code",
      "source": [
        "if which_db=='CIFAR10':\n",
        "\n",
        "  device = torch.device(\"cuda:0\" if torch.cuda.is_available() else \"cpu\")\n",
        "\n",
        "  ds = 'cifar10'\n",
        "\n",
        "  mean = {\n",
        "  'cifar10': (0.4914, 0.4822, 0.4465),\n",
        "  'cifar100': (0.5071, 0.4867, 0.4408),\n",
        "  }\n",
        "\n",
        "  std = {\n",
        "  'cifar10': (0.2023, 0.1994, 0.2010),\n",
        "  'cifar100': (0.2675, 0.2565, 0.2761),\n",
        "  }\n",
        "\n",
        "  mean, std = mean[ds], std[ds]\n",
        "\n",
        "\n",
        "  args_batch_size = 256\n",
        "  args_scale = 1\n",
        "  args_reprob = 0\n",
        "  args_ra_m = 12\n",
        "  args_ra_n = 2\n",
        "  args_jitter = 0\n",
        "  res = 32\n",
        "  num_classes = 10 if ds == 'cifar10' else 100\n",
        "  args_lr_max = 0.05\n",
        "  args_wd = 0.005\n",
        "  args_epochs = 100\n",
        "  args_clip_norm = True\n",
        "  args_workers = 2\n",
        "\n",
        "\n",
        "\n",
        "  train_transform = transforms.Compose([\n",
        "      # transforms.RandomResizedCrop(32, scale=(args_scale, 1.0), ratio=(1.0, 1.0)),\n",
        "      transforms.RandomResizedCrop(224),\n",
        "      transforms.RandomHorizontalFlip(p=0.5),\n",
        "      transforms.RandAugment(num_ops=args_ra_n, magnitude=args_ra_m),\n",
        "      transforms.ColorJitter(args_jitter, args_jitter, args_jitter),\n",
        "      transforms.ToTensor(),\n",
        "      transforms.Normalize(mean, std),\n",
        "      transforms.RandomErasing(p=args_reprob)\n",
        "  ])\n",
        "\n",
        "  test_transform = transforms.Compose([\n",
        "      transforms.RandomResizedCrop(224),\n",
        "      transforms.ToTensor(),\n",
        "      transforms.Normalize(mean, std)\n",
        "  ])\n",
        "\n",
        "\n",
        "  trainset = getattr(torchvision.datasets, ds.upper())(\n",
        "      root='./data', train=True, download=True, transform=train_transform)\n",
        "  testset = getattr(torchvision.datasets, ds.upper())(\n",
        "      root='./data', train=False, download=True, transform=test_transform)\n",
        "  print('\\nNumber of images in the train set:', len(trainset), \n",
        "        '; Number of images in the test set:', len(testset))\n",
        "\n",
        "  trainloader = torch.utils.data.DataLoader(trainset, batch_size=args_batch_size,\n",
        "                                            shuffle=True, num_workers=args_workers)\n",
        "  testloader = torch.utils.data.DataLoader(testset, batch_size=args_batch_size,\n",
        "                                          shuffle=False, num_workers=args_workers)\n",
        "\n",
        "\n",
        "  class_names = ['airplane', 'car', 'bird', 'cat', 'deer', 'dog', 'frog', 'horse', 'ship', 'truck'] \n",
        "\n",
        "\n",
        "  dataloaders = {}\n",
        "  dataloaders['train'] = trainloader\n",
        "  dataloaders['val'] = testloader\n",
        "\n",
        "  dataset_sizes = {x: len(dataloaders[x].dataset) for x in ['train', 'val']}\n"
      ],
      "metadata": {
        "id": "d5t6n1XUTUaw",
        "colab": {
          "base_uri": "https://localhost:8080/",
          "height": 138,
          "referenced_widgets": [
            "9ab6bf8e702b4e12b2dc8d7fa5e4de26",
            "623c8d2177064aff83a6fd63c5d1c0ff",
            "a0bcc3bee7514cb3988077d2a3b3246c",
            "24c83e79e3aa42ed9dcb8f822ad1bb78",
            "cffb58842b864872bb18bc04f13e7d79",
            "15eb890c9cc94f48a9351d163e987584",
            "75a5e2da4bea41bf8d4b1556242fd54a",
            "70722d21672b4830b0bd1c9cf7f096d1",
            "2a003f3be1f842649fed9a6e20169dc2",
            "d48b91a1f2154e6a8c7ce35ede9e8897",
            "473d211f34c94590a8b459839c473925"
          ]
        },
        "outputId": "dced9575-170f-41cf-d4b2-55e33565711b"
      },
      "execution_count": 36,
      "outputs": [
        {
          "output_type": "stream",
          "name": "stdout",
          "text": [
            "Downloading https://www.cs.toronto.edu/~kriz/cifar-10-python.tar.gz to ./data/cifar-10-python.tar.gz\n"
          ]
        },
        {
          "output_type": "display_data",
          "data": {
            "text/plain": [
              "  0%|          | 0/170498071 [00:00<?, ?it/s]"
            ],
            "application/vnd.jupyter.widget-view+json": {
              "version_major": 2,
              "version_minor": 0,
              "model_id": "9ab6bf8e702b4e12b2dc8d7fa5e4de26"
            }
          },
          "metadata": {}
        },
        {
          "output_type": "stream",
          "name": "stdout",
          "text": [
            "Extracting ./data/cifar-10-python.tar.gz to ./data\n",
            "Files already downloaded and verified\n",
            "\n",
            "Number of images in the train set: 50000 ; Number of images in the test set: 10000\n"
          ]
        }
      ]
    },
    {
      "cell_type": "markdown",
      "metadata": {
        "id": "v8V_BxEjXcuM"
      },
      "source": [
        "### Visualize a few images\n",
        "Let's visualize a few training images so as to understand the data\n",
        "augmentations.\n",
        "\n"
      ]
    },
    {
      "cell_type": "code",
      "execution_count": 37,
      "metadata": {
        "id": "bsV0aVgEXcuN",
        "colab": {
          "base_uri": "https://localhost:8080/",
          "height": 50
        },
        "outputId": "1e48cf00-5451-4149-92f9-47679a56a1ef"
      },
      "outputs": [
        {
          "output_type": "display_data",
          "data": {
            "text/plain": [
              "<Figure size 432x288 with 1 Axes>"
            ],
            "image/png": "[encoded data removed]"
          },
          "metadata": {
            "needs_background": "light"
          }
        }
      ],
      "source": [
        "def imshow(inp, title=None):\n",
        "    \"\"\"Imshow for Tensor.\"\"\"\n",
        "    inp = inp.numpy().transpose((1, 2, 0))\n",
        "    mean = np.array([0.485, 0.456, 0.406])\n",
        "    std = np.array([0.229, 0.224, 0.225])\n",
        "    inp = std * inp + mean\n",
        "    inp = np.clip(inp, 0, 1)\n",
        "    plt.imshow(inp)\n",
        "    if title is not None:\n",
        "        plt.title(title)\n",
        "    plt.pause(0.001)  # pause a bit so that plots are updated\n",
        "\n",
        "\n",
        "# Get a batch of training data\n",
        "inputs, classes = next(iter(dataloaders['train']))\n",
        "\n",
        "# Make a grid from batch\n",
        "out = torchvision.utils.make_grid(inputs)\n",
        "\n",
        "imshow(out, title=[class_names[x] for x in classes])"
      ]
    },
    {
      "cell_type": "markdown",
      "metadata": {
        "id": "hUenQbNUXcuN"
      },
      "source": [
        "## Training the model\n",
        "\n",
        "Now, let's write a general function to train a model. Here, we will\n",
        "illustrate:\n",
        "\n",
        "-  Scheduling the learning rate\n",
        "-  Saving the best model\n",
        "\n",
        "In the following, parameter ``scheduler`` is an LR scheduler object from\n",
        "``torch.optim.lr_scheduler``.\n",
        "\n"
      ]
    },
    {
      "cell_type": "code",
      "execution_count": 38,
      "metadata": {
        "id": "QLB81LzNXcuN"
      },
      "outputs": [],
      "source": [
        "def train_model(model, criterion, optimizer, scheduler, num_epochs=25):\n",
        "    since = time.time()\n",
        "\n",
        "    best_model_wts = copy.deepcopy(model.state_dict())\n",
        "    best_acc = 0.0\n",
        "\n",
        "    for epoch in range(num_epochs):\n",
        "        print(f'Epoch {epoch}/{num_epochs - 1}')\n",
        "        print('-' * 10)\n",
        "\n",
        "        # Each epoch has a training and validation phase\n",
        "        for phase in ['train', 'val']:\n",
        "            if phase == 'train':\n",
        "                model.train()  # Set model to training mode\n",
        "            else:\n",
        "                model.eval()   # Set model to evaluate mode\n",
        "\n",
        "            running_loss = 0.0\n",
        "            running_corrects = 0\n",
        "\n",
        "            # Iterate over data.\n",
        "            for inputs, labels in dataloaders[phase]:\n",
        "                inputs = inputs.to(device)\n",
        "                labels = labels.to(device)\n",
        "\n",
        "                # zero the parameter gradients\n",
        "                optimizer.zero_grad()\n",
        "\n",
        "                # forward\n",
        "                # track history if only in train\n",
        "                with torch.set_grad_enabled(phase == 'train'):\n",
        "                    outputs = model(inputs)\n",
        "                    _, preds = torch.max(outputs, 1)\n",
        "                    loss = criterion(outputs, labels)\n",
        "\n",
        "                    # backward + optimize only if in training phase\n",
        "                    if phase == 'train':\n",
        "                        loss.backward()\n",
        "                        optimizer.step()\n",
        "\n",
        "                # statistics\n",
        "                running_loss += loss.item() * inputs.size(0)\n",
        "                running_corrects += torch.sum(preds == labels.data)\n",
        "            if phase == 'train':\n",
        "                scheduler.step()\n",
        "\n",
        "            epoch_loss = running_loss / dataset_sizes[phase]\n",
        "            epoch_acc = running_corrects.double() / dataset_sizes[phase]\n",
        "\n",
        "            print(f'{phase} Loss: {epoch_loss:.4f} Acc: {epoch_acc:.4f}')\n",
        "\n",
        "            # deep copy the model\n",
        "            if phase == 'val' and epoch_acc > best_acc:\n",
        "                best_acc = epoch_acc\n",
        "                best_model_wts = copy.deepcopy(model.state_dict())\n",
        "\n",
        "        print()\n",
        "\n",
        "    time_elapsed = time.time() - since\n",
        "    print(f'Training complete in {time_elapsed // 60:.0f}m {time_elapsed % 60:.0f}s')\n",
        "    print(f'Best val Acc: {best_acc:4f}')\n",
        "\n",
        "    # load best model weights\n",
        "    model.load_state_dict(best_model_wts)\n",
        "    return model"
      ]
    },
    {
      "cell_type": "code",
      "source": [
        "def eval_model(model):\n",
        "    phase = 'val'\n",
        "    model.eval()   # Set model to evaluate mode\n",
        "\n",
        "    running_corrects = 0\n",
        "\n",
        "    # Iterate over data.\n",
        "    for inputs, labels in dataloaders[phase]:\n",
        "        inputs = inputs.to(device)\n",
        "        labels = labels.to(device)\n",
        "\n",
        "        outputs = model(inputs)\n",
        "        _, preds = torch.max(outputs, 1)\n",
        "\n",
        "        with torch.set_grad_enabled(phase == 'train'):\n",
        "          running_corrects += torch.sum(preds == labels.data)\n",
        "\n",
        "    epoch_acc = running_corrects.double() / dataset_sizes[phase]\n",
        "\n",
        "\n",
        "    print(f'val Acc: {epoch_acc:4f}')\n"
      ],
      "metadata": {
        "id": "lxiD2rD_PVnb"
      },
      "execution_count": 39,
      "outputs": []
    },
    {
      "cell_type": "markdown",
      "metadata": {
        "id": "3X1OhjD8XcuN"
      },
      "source": [
        "### Visualizing the model predictions\n",
        "\n",
        "Generic function to display predictions for a few images\n",
        "\n",
        "\n"
      ]
    },
    {
      "cell_type": "code",
      "execution_count": 9,
      "metadata": {
        "id": "Zhc8FewmXcuO"
      },
      "outputs": [],
      "source": [
        "def visualize_model(model, num_images=6):\n",
        "    was_training = model.training\n",
        "    model.eval()\n",
        "    images_so_far = 0\n",
        "    fig = plt.figure()\n",
        "\n",
        "    with torch.no_grad():\n",
        "        for i, (inputs, labels) in enumerate(dataloaders['val']):\n",
        "            inputs = inputs.to(device)\n",
        "            labels = labels.to(device)\n",
        "\n",
        "            outputs = model(inputs)\n",
        "            _, preds = torch.max(outputs, 1)\n",
        "\n",
        "            for j in range(inputs.size()[0]):\n",
        "                images_so_far += 1\n",
        "                ax = plt.subplot(num_images//2, 2, images_so_far)\n",
        "                ax.axis('off')\n",
        "                ax.set_title(f'predicted: {class_names[preds[j]]}')\n",
        "                imshow(inputs.cpu().data[j])\n",
        "\n",
        "                if images_so_far == num_images:\n",
        "                    model.train(mode=was_training)\n",
        "                    return\n",
        "        model.train(mode=was_training)"
      ]
    },
    {
      "cell_type": "markdown",
      "metadata": {
        "id": "P3oZzuvZXcuO"
      },
      "source": [
        "## Finetuning the convnet\n",
        "\n",
        "Load a pretrained model and reset final fully connected layer.\n",
        "\n",
        "\n"
      ]
    },
    {
      "cell_type": "code",
      "source": [
        "# convert all the models to binary classifier\n",
        "num_classes = 2 if which_db=='Bees' else 10\n",
        "\n",
        "def prepare_models(models, only_tune_last_layer=True):\n",
        "\n",
        "  # First set all the requires_grads FALSE\n",
        "  if only_tune_last_layer: # means only fine tune the last year if set\n",
        "    for model in models:\n",
        "      print(model.__class__.__name__)\n",
        "\n",
        "      for name, param in model.named_parameters():\n",
        "          param.requires_grad = False\n",
        "\n",
        "  for model in models:\n",
        "    print(model.__class__.__name__)\n",
        "\n",
        "    if model.__class__.__name__.lower() in ['resnet', 'googlenet', 'inception3']:\n",
        "      print(model.fc.in_features)\n",
        "      num_ftrs = model.fc.in_features\n",
        "      model.fc = nn.Linear(num_ftrs, num_classes)\n",
        "\n",
        "      if only_tune_last_layer:\n",
        "        for name, param in model.named_parameters():\n",
        "          if name.startswith('fc'):\n",
        "            param.requires_grad = True\n",
        "\n",
        "\n",
        "    elif model.__class__.__name__.lower() == 'densenet':\n",
        "      print(model.classifier.in_features)\n",
        "      num_ftrs = model.classifier.in_features\n",
        "      model.classifier = nn.Linear(num_ftrs, num_classes)\n",
        "\n",
        "      if only_tune_last_layer:\n",
        "        for name, param in model.named_parameters():\n",
        "          if name.startswith('classifier'):\n",
        "            param.requires_grad = True\n",
        "\n",
        "\n",
        "    elif model.__class__.__name__.lower() == 'visiontransformer':\n",
        "      print(model.head.in_features)\n",
        "      num_ftrs = model.head.in_features\n",
        "      model.head = nn.Linear(num_ftrs, num_classes)\n",
        "\n",
        "      if only_tune_last_layer:\n",
        "        for name, param in model.named_parameters():\n",
        "          if name.startswith('head'):\n",
        "            param.requires_grad = True\n",
        "\n",
        "      \n",
        "    elif model.__class__.__name__.lower() == 'alexnet':    \n",
        "      print(model.classifier[-1].in_features)\n",
        "      num_ftrs = model.classifier[-1].in_features\n",
        "      model.classifier[-1] = nn.Linear(num_ftrs, num_classes)\n",
        "\n",
        "      if only_tune_last_layer:\n",
        "        for name, param in model.named_parameters():\n",
        "          if name.startswith('classifier.6'):\n",
        "            param.requires_grad = True\n",
        "\n",
        "\n",
        "    else:\n",
        "      print(model.classifier[1].in_features)\n",
        "      num_ftrs = model.classifier[1].in_features\n",
        "      model.classifier[1] = nn.Linear(num_ftrs, num_classes)\n",
        "      if only_tune_last_layer:\n",
        "        for name, param in model.named_parameters():\n",
        "          if name.startswith('classifier.1'):\n",
        "            param.requires_grad = True\n",
        "\n",
        "\n",
        "    model = model.to(device)"
      ],
      "metadata": {
        "id": "lGpbYkqbo_ED"
      },
      "execution_count": 40,
      "outputs": []
    },
    {
      "cell_type": "code",
      "source": [
        "\n",
        "models = [torch.hub.load('pytorch/vision:v0.10.0', 'resnet101', pretrained=trained, force_reload=True,  skip_validation=True), \n",
        "          torch.hub.load('pytorch/vision:v0.10.0', 'resnet152', pretrained=trained,force_reload=True,  skip_validation=True), \n",
        "          torch.hub.load('pytorch/vision:v0.10.0', 'alexnet', pretrained=trained,force_reload=True,  skip_validation=True), \n",
        "          torch.hub.load('pytorch/vision:v0.10.0', 'densenet121', pretrained=trained,force_reload=True,  skip_validation=True),\n",
        "          torch.hub.load('pytorch/vision:v0.10.0', 'googlenet', pretrained=trained,force_reload=True,  skip_validation=True), \n",
        "          torch.hub.load('pytorch/vision:v0.10.0', 'mobilenet_v2', pretrained=trained,force_reload=True,  skip_validation=True),\n",
        "          # torch.hub.load('pytorch/vision:v0.10.0', 'inception_v3', pretrained=trained,force_reload=True,  skip_validation=True), \n",
        "          torch.hub.load('pytorch/vision:v0.10.0', 'resnext50_32x4d', pretrained=trained,force_reload=True,  skip_validation=True),\n",
        "          torch.hub.load('facebookresearch/WSL-Images', 'resnext101_32x8d_wsl',force_reload=True,  skip_validation=True), \n",
        "          torch.hub.load('facebookresearch/deit:main', 'deit_base_patch16_224', pretrained=trained,force_reload=True,  skip_validation=True)]\n",
        "\n"
      ],
      "metadata": {
        "id": "D-leY0hud5Wd",
        "colab": {
          "base_uri": "https://localhost:8080/"
        },
        "outputId": "63acf796-4286-4b60-9941-b2fb849e9570"
      },
      "execution_count": 41,
      "outputs": [
        {
          "output_type": "stream",
          "name": "stderr",
          "text": [
            "Downloading: \"https://github.com/pytorch/vision/zipball/v0.10.0\" to /root/.cache/torch/hub/v0.10.0.zip\n",
            "/usr/local/lib/python3.7/dist-packages/torchvision/models/_utils.py:209: UserWarning: The parameter 'pretrained' is deprecated since 0.13 and will be removed in 0.15, please use 'weights' instead.\n",
            "  f\"The parameter '{pretrained_param}' is deprecated since 0.13 and will be removed in 0.15, \"\n",
            "/usr/local/lib/python3.7/dist-packages/torchvision/models/_utils.py:223: UserWarning: Arguments other than a weight enum or `None` for 'weights' are deprecated since 0.13 and will be removed in 0.15. The current behavior is equivalent to passing `weights=ResNet101_Weights.IMAGENET1K_V1`. You can also use `weights=ResNet101_Weights.DEFAULT` to get the most up-to-date weights.\n",
            "  warnings.warn(msg)\n",
            "Downloading: \"https://github.com/pytorch/vision/zipball/v0.10.0\" to /root/.cache/torch/hub/v0.10.0.zip\n",
            "/usr/local/lib/python3.7/dist-packages/torchvision/models/_utils.py:223: UserWarning: Arguments other than a weight enum or `None` for 'weights' are deprecated since 0.13 and will be removed in 0.15. The current behavior is equivalent to passing `weights=ResNet152_Weights.IMAGENET1K_V1`. You can also use `weights=ResNet152_Weights.DEFAULT` to get the most up-to-date weights.\n",
            "  warnings.warn(msg)\n",
            "Downloading: \"https://github.com/pytorch/vision/zipball/v0.10.0\" to /root/.cache/torch/hub/v0.10.0.zip\n",
            "/usr/local/lib/python3.7/dist-packages/torchvision/models/_utils.py:223: UserWarning: Arguments other than a weight enum or `None` for 'weights' are deprecated since 0.13 and will be removed in 0.15. The current behavior is equivalent to passing `weights=AlexNet_Weights.IMAGENET1K_V1`. You can also use `weights=AlexNet_Weights.DEFAULT` to get the most up-to-date weights.\n",
            "  warnings.warn(msg)\n",
            "Downloading: \"https://github.com/pytorch/vision/zipball/v0.10.0\" to /root/.cache/torch/hub/v0.10.0.zip\n",
            "/usr/local/lib/python3.7/dist-packages/torchvision/models/_utils.py:223: UserWarning: Arguments other than a weight enum or `None` for 'weights' are deprecated since 0.13 and will be removed in 0.15. The current behavior is equivalent to passing `weights=DenseNet121_Weights.IMAGENET1K_V1`. You can also use `weights=DenseNet121_Weights.DEFAULT` to get the most up-to-date weights.\n",
            "  warnings.warn(msg)\n",
            "Downloading: \"https://github.com/pytorch/vision/zipball/v0.10.0\" to /root/.cache/torch/hub/v0.10.0.zip\n",
            "/usr/local/lib/python3.7/dist-packages/torchvision/models/_utils.py:223: UserWarning: Arguments other than a weight enum or `None` for 'weights' are deprecated since 0.13 and will be removed in 0.15. The current behavior is equivalent to passing `weights=GoogLeNet_Weights.IMAGENET1K_V1`. You can also use `weights=GoogLeNet_Weights.DEFAULT` to get the most up-to-date weights.\n",
            "  warnings.warn(msg)\n",
            "Downloading: \"https://github.com/pytorch/vision/zipball/v0.10.0\" to /root/.cache/torch/hub/v0.10.0.zip\n",
            "/usr/local/lib/python3.7/dist-packages/torchvision/models/_utils.py:223: UserWarning: Arguments other than a weight enum or `None` for 'weights' are deprecated since 0.13 and will be removed in 0.15. The current behavior is equivalent to passing `weights=MobileNet_V2_Weights.IMAGENET1K_V1`. You can also use `weights=MobileNet_V2_Weights.DEFAULT` to get the most up-to-date weights.\n",
            "  warnings.warn(msg)\n",
            "Downloading: \"https://github.com/pytorch/vision/zipball/v0.10.0\" to /root/.cache/torch/hub/v0.10.0.zip\n",
            "/usr/local/lib/python3.7/dist-packages/torchvision/models/_utils.py:223: UserWarning: Arguments other than a weight enum or `None` for 'weights' are deprecated since 0.13 and will be removed in 0.15. The current behavior is equivalent to passing `weights=ResNeXt50_32X4D_Weights.IMAGENET1K_V1`. You can also use `weights=ResNeXt50_32X4D_Weights.DEFAULT` to get the most up-to-date weights.\n",
            "  warnings.warn(msg)\n",
            "Downloading: \"https://github.com/facebookresearch/WSL-Images/zipball/main\" to /root/.cache/torch/hub/main.zip\n",
            "Downloading: \"https://github.com/facebookresearch/deit/zipball/main\" to /root/.cache/torch/hub/main.zip\n"
          ]
        }
      ]
    },
    {
      "cell_type": "code",
      "source": [
        "# for model in models:\n",
        "#   model.to(device)"
      ],
      "metadata": {
        "id": "dc0kmcgtm8LF"
      },
      "execution_count": 42,
      "outputs": []
    },
    {
      "cell_type": "code",
      "source": [
        "prepare_models(models, only_tune_last_layer=only_tune_last_layer)"
      ],
      "metadata": {
        "id": "cyGqcyE3hSTz",
        "colab": {
          "base_uri": "https://localhost:8080/"
        },
        "outputId": "a6a9edc2-38bc-4d35-c3c4-060fcf0f9e5e"
      },
      "execution_count": 43,
      "outputs": [
        {
          "output_type": "stream",
          "name": "stdout",
          "text": [
            "ResNet\n",
            "ResNet\n",
            "AlexNet\n",
            "DenseNet\n",
            "GoogLeNet\n",
            "MobileNetV2\n",
            "ResNet\n",
            "ResNet\n",
            "VisionTransformer\n",
            "ResNet\n",
            "2048\n",
            "ResNet\n",
            "2048\n",
            "AlexNet\n",
            "4096\n",
            "DenseNet\n",
            "1024\n",
            "GoogLeNet\n",
            "1024\n",
            "MobileNetV2\n",
            "1280\n",
            "ResNet\n",
            "2048\n",
            "ResNet\n",
            "2048\n",
            "VisionTransformer\n",
            "768\n"
          ]
        }
      ]
    },
    {
      "cell_type": "code",
      "source": [
        "# eval_model(models[0])"
      ],
      "metadata": {
        "id": "wPUGgnRPQrlV"
      },
      "execution_count": 10,
      "outputs": []
    },
    {
      "cell_type": "markdown",
      "source": [
        "#### load the trained models if you have trained them already\n",
        "\n"
      ],
      "metadata": {
        "id": "7fJoWO-mE31D"
      }
    },
    {
      "cell_type": "code",
      "source": [
        "# from google.colab import drive\n",
        "# drive.mount('/content/drive')\n",
        "\n",
        "# # loading models\n",
        "# for idx, model in enumerate(models[:1]):\n",
        "#   print(idx)\n",
        "#   # model = torch.load('/content/drive/MyDrive/CIFAR10_Models/model_'+str(idx)+'.pth')\n",
        "#   model.load_state_dict(torch.load('/content/drive/MyDrive/CIFAR10_Models/model_'+str(idx)+'.pth'))\n",
        "\n",
        "\n"
      ],
      "metadata": {
        "id": "zdLRXgYfE7_o"
      },
      "execution_count": 11,
      "outputs": []
    },
    {
      "cell_type": "code",
      "source": [
        "# # dir(param)\n",
        "# for p in models[0].parameters():\n",
        "#     if p.requires_grad:\n",
        "#          print(p.name, p.data)"
      ],
      "metadata": {
        "id": "TXZc_A217MGd"
      },
      "execution_count": 12,
      "outputs": []
    },
    {
      "cell_type": "code",
      "source": [
        "# for model in models[4:5]:\n",
        "#   print(model.__class__.__name__)\n",
        "\n",
        "#   for name, param in model.named_parameters():\n",
        "#       # if 'fc' in name:\n",
        "#         # param.requires_grad = True\n",
        "#         print(name, param.requires_grad)      \n"
      ],
      "metadata": {
        "id": "MHuqwUPm_78A"
      },
      "execution_count": 13,
      "outputs": []
    },
    {
      "cell_type": "markdown",
      "metadata": {
        "id": "oJjsOglZXcuO"
      },
      "source": [
        "# Train models\n",
        "\n",
        "It should take around 15-25 min on CPU. On GPU though, it takes less than a\n",
        "minute.\n",
        "\n",
        "\n"
      ]
    },
    {
      "cell_type": "code",
      "execution_count": null,
      "metadata": {
        "id": "TR6Q82hpXcuO",
        "colab": {
          "base_uri": "https://localhost:8080/"
        },
        "outputId": "a0719400-1f6d-4bc8-ee03-df586fff1133"
      },
      "outputs": [
        {
          "output_type": "stream",
          "name": "stdout",
          "text": [
            "Mounted at /content/drive\n",
            "ResNet\n",
            "Epoch 0/5\n",
            "----------\n"
          ]
        }
      ],
      "source": [
        "if train_models: # models should be trained\n",
        "\n",
        "  # dir(models[0])\n",
        "  from google.colab import drive\n",
        "  drive.mount('/content/drive')\n",
        "\n",
        "  !mkdir /content/drive/MyDrive/CIFAR10_Models\n",
        "\n",
        "  criterion = nn.CrossEntropyLoss()\n",
        "\n",
        "  for idx, model in enumerate(models):\n",
        "    \n",
        "    # Observe that all parameters are being optimized\n",
        "    optimizer = optim.SGD(model.parameters(), lr=0.001, momentum=0.9)\n",
        "    # Decay LR by a factor of 0.1 every 7 epochs\n",
        "    exp_lr_scheduler = lr_scheduler.StepLR(optimizer, step_size=7, gamma=0.1)  \n",
        "\n",
        "    # print(\n",
        "    print(model.__class__.__name__)\n",
        "    model = train_model(model, criterion, optimizer, exp_lr_scheduler,\n",
        "                        num_epochs=epochs)\n",
        "    \n",
        "    torch.save(model.state_dict(), '/content/drive/MyDrive/CIFAR10_Models/model_'+str(idx)+'.pth')"
      ]
    },
    {
      "cell_type": "markdown",
      "source": [
        "#### save models if you want[link text](https://)"
      ],
      "metadata": {
        "id": "96kiYU_zNPHn"
      }
    },
    {
      "cell_type": "code",
      "source": [
        "# # dir(models[0])\n",
        "# from google.colab import drive\n",
        "# drive.mount('/content/drive')\n",
        "\n",
        "# # !mkdir /content/drive/MyDrive/CIFAR10_Models\n",
        "\n",
        "# # saving models\n",
        "# for idx, model in enumerate(models[:1]):\n",
        "#   print(idx)\n",
        "#   # torch.save(model, '/content/drive/MyDrive/CIFAR10_Models/model_'+str(idx)+'.pth')\n",
        "#   torch.save(model.state_dict(), '/content/drive/MyDrive/CIFAR10_Models/model_'+str(idx)+'.pth')\n"
      ],
      "metadata": {
        "id": "BdzZQbXUgAZ1"
      },
      "execution_count": 15,
      "outputs": []
    },
    {
      "cell_type": "markdown",
      "source": [
        "# Extract logits"
      ],
      "metadata": {
        "id": "YZd9dvmxZDo-"
      }
    },
    {
      "cell_type": "code",
      "source": [
        "# extract features over training data \n",
        "def extract_features(model, num_datapoints=100, case='normalized'):\n",
        "    X_train, X_val = torch.empty(1,num_classes, dtype=torch.float16), torch.empty(1,num_classes,dtype=torch.float16)\n",
        "    model.eval()   # Set model to evaluate mode\n",
        "\n",
        "    with torch.no_grad():\n",
        "      for phase in ['train', 'val']:\n",
        "\n",
        "            for inputs, labels in dataloaders[phase]:\n",
        "                inputs = inputs.to(device)\n",
        "                labels = labels.to(device)\n",
        "\n",
        "                # forward\n",
        "                # track history if only in train\n",
        "                outputs = model(inputs).cpu() # logits which should be saved\n",
        "                # breakpoint()\n",
        "                if case == 'normalized':\n",
        "                    outputs = outputs/outputs.sum(axis=1)[:,None]\n",
        "\n",
        "                \n",
        "                # print(outputs.shape)\n",
        "                # _, preds = torch.max(outputs, 1)\n",
        "                \n",
        "                if phase == 'train':\n",
        "                  X_train = torch.vstack((X_train,outputs))\n",
        "                  if X_train.shape[0] > num_datapoints: break\n",
        "                else:\n",
        "                  X_val = torch.vstack((X_val,outputs))\n",
        "                  if X_val.shape[0] > num_datapoints: break                  \n",
        "\n",
        "    return X_train[1:num_datapoints], X_val[1:num_datapoints]\n"
      ],
      "metadata": {
        "id": "sJEitS1ma2DF"
      },
      "execution_count": 16,
      "outputs": []
    },
    {
      "cell_type": "code",
      "source": [
        "# X[0]"
      ],
      "metadata": {
        "id": "xpXpC4P5p1My"
      },
      "execution_count": 17,
      "outputs": []
    },
    {
      "cell_type": "code",
      "source": [
        "# X[-1]"
      ],
      "metadata": {
        "id": "Ayx_7Vh6p2cc"
      },
      "execution_count": 18,
      "outputs": []
    },
    {
      "cell_type": "code",
      "source": [
        "# num_classes = 1000 # only for imageNet\n",
        "\n",
        "X, X_val = torch.empty(1,num_classes, dtype=torch.float16), torch.empty(1,num_classes,dtype=torch.float16)\n",
        "y, y_val = [], []\n",
        "\n",
        "num_datapoints = num_data\n",
        "case = 'normalized'\n",
        "\n",
        "for idx, model in enumerate(models):\n",
        "  print(model.__class__.__name__)\n",
        "  train_ft, val_ft = extract_features(model, num_datapoints, case)  \n",
        "  X = torch.vstack((X,train_ft))\n",
        "  X_val = torch.vstack((X_val,val_ft))\n",
        "\n",
        "  y.extend([idx]*train_ft.shape[0]) \n",
        "  y_val.extend([idx]*val_ft.shape[0]) \n",
        "\n",
        "\n",
        "X = X[1:]\n",
        "X_val = X_val[1:]\n",
        "\n",
        "y = torch.tensor(y)\n",
        "y_val = torch.tensor(y_val)\n",
        "\n",
        "idx_t = torch.randperm(X.shape[0])\n",
        "X = X[idx_t]\n",
        "y = y[idx_t]\n",
        "\n",
        "idx_v = torch.randperm(X_val.shape[0])\n",
        "X_val = X_val[idx_v]\n",
        "y_val = y_val[idx_v]\n",
        "\n",
        "\n",
        "print(X.shape, X_val.shape) #, train_ft2.shape, val_ft2.shape)\n",
        "print(y.shape, y_val.shape) #, train_ft2.shape, val_ft2.shape)"
      ],
      "metadata": {
        "id": "QdwFzEMtcb_k",
        "colab": {
          "base_uri": "https://localhost:8080/"
        },
        "outputId": "16f2aeea-943f-4f2b-94ba-b4200393cc2f"
      },
      "execution_count": 24,
      "outputs": [
        {
          "output_type": "stream",
          "name": "stdout",
          "text": [
            "ResNet\n"
          ]
        },
        {
          "output_type": "stream",
          "name": "stderr",
          "text": [
            "/usr/local/lib/python3.7/dist-packages/torch/utils/data/dataloader.py:566: UserWarning: This DataLoader will create 4 worker processes in total. Our suggested max number of worker in current system is 2, which is smaller than what this DataLoader is going to create. Please be aware that excessive worker creation might get DataLoader running slow or even freeze, lower the worker number to avoid potential slowness/freeze if necessary.\n",
            "  cpuset_checked))\n"
          ]
        },
        {
          "output_type": "stream",
          "name": "stdout",
          "text": [
            "ResNet\n",
            "AlexNet\n",
            "DenseNet\n",
            "GoogLeNet\n",
            "MobileNetV2\n",
            "ResNet\n",
            "ResNet\n",
            "VisionTransformer\n",
            "torch.Size([2196, 2]) torch.Size([1377, 2])\n",
            "torch.Size([2196]) torch.Size([1377])\n"
          ]
        }
      ]
    },
    {
      "cell_type": "markdown",
      "source": [
        "# Train a classifier on logits "
      ],
      "metadata": {
        "id": "nR7EOx31idU-"
      }
    },
    {
      "cell_type": "code",
      "source": [
        "# multi class\n",
        "#Importing the necessary packages and libaries\n",
        "from sklearn.metrics import confusion_matrix\n",
        "from sklearn.model_selection import train_test_split\n",
        "from sklearn import svm, datasets\n",
        "import matplotlib.pyplot as plt\n",
        "import numpy as np\n"
      ],
      "metadata": {
        "id": "O-q0wEiDVE1Y"
      },
      "execution_count": 25,
      "outputs": []
    },
    {
      "cell_type": "code",
      "source": [
        "num_trains = [10, 100, 500, 1000, 2000]\n",
        "\n",
        "for num_train in num_trains:\n",
        "  model_svm = svm.SVC(kernel='linear', C=1, decision_function_shape='ovo').fit(X[:num_train], y[:num_train])\n",
        "  model_rbf = svm.SVC(kernel='rbf', gamma=1, C=1, decision_function_shape='ovo').fit(X[:num_train], y[:num_train])\n",
        "  # model = svm.SVC(kernel='poly', degree=3, C=1, decision_function_shape='ovo').fit(X, y)\n",
        "  # model = svm.SVC(kernel='sigmoid', C=1, decision_function_shape='ovo').fit(X, y)\n",
        "\n",
        "  # print()\n",
        "  for m in [model_svm, model_rbf]:\n",
        "  # for m in [model_svm]:\n",
        "  # for m in [model_rbf]:  \n",
        "    pred = m.predict(X_val)\n",
        "    accuracy = m.score(X_val, y_val)\n",
        "    print(f'{num_train}: {accuracy}')\n",
        "    \n",
        "    # cm = confusion_matrix(y_val, pred)\n",
        "\n",
        "    # print(cm)\n",
        "\n",
        "    # plt.imshow(cm)\n",
        "    # plt.show()"
      ],
      "metadata": {
        "id": "fDFhVDRSYDxF",
        "colab": {
          "base_uri": "https://localhost:8080/"
        },
        "outputId": "9c39aaaa-79dd-4f29-f1b1-5d898e863903"
      },
      "execution_count": 26,
      "outputs": [
        {
          "output_type": "stream",
          "name": "stdout",
          "text": [
            "10: 0.09949164851125636\n",
            "10: 0.12490922294843863\n",
            "100: 0.14596949891067537\n",
            "100: 0.2411038489469862\n",
            "500: 0.12418300653594772\n",
            "500: 0.25635439360929557\n",
            "1000: 0.11183732752360204\n",
            "1000: 0.2549019607843137\n",
            "2000: 0.10530137981118373\n",
            "2000: 0.262164124909223\n"
          ]
        }
      ]
    },
    {
      "cell_type": "code",
      "source": [
        "model_svm = svm.SVC(kernel='linear', C=1, decision_function_shape='ovo').fit(X, y)\n",
        "model_rbf = svm.SVC(kernel='rbf', gamma=1, C=1, decision_function_shape='ovo').fit(X, y)\n",
        "# model = svm.SVC(kernel='poly', degree=3, C=1, decision_function_shape='ovo').fit(X, y)\n",
        "# model = svm.SVC(kernel='sigmoid', C=1, decision_function_shape='ovo').fit(X, y)\n",
        "\n",
        "# print()\n",
        "for m in [model_svm, model_rbf]:\n",
        "# for m in [model_rbf]:\n",
        "# for m in [model_svm]:  \n",
        "  pred = m.predict(X_val)\n",
        "  accuracy = m.score(X_val, y_val)\n",
        "  print(f'{X.shape[0]}: {accuracy}')\n",
        "  \n",
        "  # cm = confusion_matrix(y_val, pred)\n",
        "\n",
        "  # # print(cm)\n",
        "\n",
        "  # plt.imshow(cm)\n",
        "  # plt.show()"
      ],
      "metadata": {
        "id": "5GAS5gT7Qhgx",
        "colab": {
          "base_uri": "https://localhost:8080/"
        },
        "outputId": "96a12258-adc5-48a5-9af8-31b851f9dac2"
      },
      "execution_count": 27,
      "outputs": [
        {
          "output_type": "stream",
          "name": "stdout",
          "text": [
            "2196: 0.1859114015976761\n",
            "2196: 0.26143790849673204\n"
          ]
        }
      ]
    },
    {
      "cell_type": "code",
      "source": [
        "cm = confusion_matrix(y_val, pred)\n",
        "\n",
        "  # # print(cm)\n",
        "\n",
        "plt.imshow(cm)\n",
        "plt.show()"
      ],
      "metadata": {
        "id": "iWITYbcAkd_O",
        "colab": {
          "base_uri": "https://localhost:8080/",
          "height": 265
        },
        "outputId": "4fe12d47-9ba9-43e2-a92a-abb94b61b1ea"
      },
      "execution_count": 28,
      "outputs": [
        {
          "output_type": "display_data",
          "data": {
            "text/plain": [
              "<Figure size 432x288 with 1 Axes>"
            ],
            "image/png": "[encoded data removed]"
          },
          "metadata": {
            "needs_background": "light"
          }
        }
      ]
    },
    {
      "cell_type": "code",
      "source": [
        "print(f'chance level : {1/len(models)}')"
      ],
      "metadata": {
        "id": "1YB_LmLUoE2C"
      },
      "execution_count": null,
      "outputs": []
    },
    {
      "cell_type": "markdown",
      "source": [
        " # Same network for different training, train a classifier on one initialization and then test on a different initialization!!!"
      ],
      "metadata": {
        "id": "L7y_2IFeZG-f"
      }
    },
    {
      "cell_type": "code",
      "source": [
        "# del models_new"
      ],
      "metadata": {
        "id": "pUILzxX8s6ZX"
      },
      "execution_count": null,
      "outputs": []
    },
    {
      "cell_type": "code",
      "source": [
        "models_new = [torch.hub.load('pytorch/vision:v0.10.0', 'resnet101', pretrained=trained, force_reload=True,  skip_validation=True), \n",
        "              torch.hub.load('pytorch/vision:v0.10.0', 'resnet152', pretrained=trained,force_reload=True,  skip_validation=True), \n",
        "          torch.hub.load('pytorch/vision:v0.10.0', 'alexnet', pretrained=trained,force_reload=True,  skip_validation=True), \n",
        "          torch.hub.load('pytorch/vision:v0.10.0', 'densenet121', pretrained=trained,force_reload=True,  skip_validation=True),\n",
        "          torch.hub.load('pytorch/vision:v0.10.0', 'googlenet', pretrained=trained,force_reload=True,  skip_validation=True), \n",
        "          torch.hub.load('pytorch/vision:v0.10.0', 'mobilenet_v2', pretrained=trained,force_reload=True,  skip_validation=True),\n",
        "          # torch.hub.load('pytorch/vision:v0.10.0', 'inception_v3', pretrained=trained,force_reload=True,  skip_validation=True), \n",
        "          torch.hub.load('pytorch/vision:v0.10.0', 'resnext50_32x4d', pretrained=trained,force_reload=True,  skip_validation=True),\n",
        "          torch.hub.load('facebookresearch/WSL-Images', 'resnext101_32x8d_wsl',force_reload=True,  skip_validation=True), \n",
        "          torch.hub.load('facebookresearch/deit:main', 'deit_base_patch16_224', pretrained=trained,force_reload=True,  skip_validation=True)]\n",
        "\n"
      ],
      "metadata": {
        "id": "7sR8NbXYZKkF"
      },
      "execution_count": null,
      "outputs": []
    },
    {
      "cell_type": "code",
      "source": [
        "prepare_models(models_new, only_tune_last_layer=only_tune_last_layer)"
      ],
      "metadata": {
        "id": "rU6GSaVNkg5Q"
      },
      "execution_count": null,
      "outputs": []
    },
    {
      "cell_type": "code",
      "source": [
        "# see if you want to train the models or not\n",
        "if train_models:\n",
        "  criterion = nn.CrossEntropyLoss()\n",
        "\n",
        "  for model in models_new:\n",
        "\n",
        "    # Observe that all parameters are being optimized\n",
        "    optimizer = optim.SGD(model.parameters(), lr=0.001, momentum=0.9)\n",
        "    # Decay LR by a factor of 0.1 every 7 epochs\n",
        "    exp_lr_scheduler = lr_scheduler.StepLR(optimizer, step_size=7, gamma=0.1)  \n",
        "\n",
        "    # print(\n",
        "    print(model.__class__.__name__)\n",
        "    model = train_model(model, criterion, optimizer, exp_lr_scheduler,\n",
        "                        num_epochs=epochs)"
      ],
      "metadata": {
        "id": "kD0BYt11kg7j"
      },
      "execution_count": null,
      "outputs": []
    },
    {
      "cell_type": "code",
      "source": [
        "# extract features using the new models\n",
        "X_new, X_val_new = torch.empty(1,num_classes, dtype=torch.float16), torch.empty(1,num_classes,dtype=torch.float16)\n",
        "y_new, y_val_new = [], []\n",
        "\n",
        "num_datapoints = num_data\n",
        "\n",
        "for idx, model in enumerate(models_new):\n",
        "  print(model.__class__.__name__)\n",
        "  train_ft, val_ft = extract_features(model, num_datapoints, case)  \n",
        "  X_new = torch.vstack((X_new,train_ft))\n",
        "  X_val_new = torch.vstack((X_val_new,val_ft))\n",
        "\n",
        "  y_new.extend([idx]*train_ft.shape[0]) \n",
        "  y_val_new.extend([idx]*val_ft.shape[0]) \n",
        "\n",
        "\n",
        "X_new = X_new[1:]\n",
        "X_val_new = X_val_new[1:]\n",
        "\n",
        "y_new = torch.tensor(y_new)\n",
        "y_val_new = torch.tensor(y_val_new)\n",
        "\n",
        "idx_t = torch.randperm(X_new.shape[0])\n",
        "X_new = X_new[idx_t]\n",
        "y_new = y_new[idx_t]\n",
        "\n",
        "idx_v = torch.randperm(X_val_new.shape[0])\n",
        "X_val_new = X_val_new[idx_v]\n",
        "y_val_new = y_val_new[idx_v]\n",
        "\n",
        "\n",
        "print(X_new.shape, X_val_new.shape) #, train_ft2.shape, val_ft2.shape)\n",
        "print(X_new.shape, y_val_new.shape) #, train_ft2.shape, val_ft2.shape)"
      ],
      "metadata": {
        "id": "MRiqYN7IgIjL"
      },
      "execution_count": null,
      "outputs": []
    },
    {
      "cell_type": "code",
      "source": [
        "# test the classifiers trained on logits on new models\n",
        "\n",
        "for m in [model_svm, model_rbf]:\n",
        "  pred = m.predict(X_val_new)\n",
        "  accuracy = m.score(X_val_new, y_val_new)\n",
        "  cm = confusion_matrix(y_val_new, pred)\n",
        "\n",
        "  print(accuracy)\n",
        "  # print(cm)\n",
        "\n",
        "  plt.imshow(cm)\n",
        "  plt.show()\n"
      ],
      "metadata": {
        "id": "sETlF3-AgOMR"
      },
      "execution_count": null,
      "outputs": []
    },
    {
      "cell_type": "code",
      "source": [
        "# binary classifier \n",
        "\n",
        "# # >>> X, y = load_iris(return_X_y=True)\n",
        "# clf = LogisticRegression(random_state=0).fit(X, y)\n",
        "# clf.predict(X)\n",
        "# # array([0, 0])\n",
        "# # clf.predict_proba(X)\n",
        "# # array([[9.8...e-01, 1.8...e-02, 1.4...e-08],\n",
        "# #        [9.7...e-01, 2.8...e-02, ...e-08]])\n",
        "# print(clf.score(X, y))\n",
        "# # 0.97...\n",
        "\n",
        "# print(clf.score(X_val, y_val))"
      ],
      "metadata": {
        "id": "GKEZv0Sckg9g"
      },
      "execution_count": null,
      "outputs": []
    }
  ],
  "metadata": {
    "kernelspec": {
      "display_name": "Python 3",
      "language": "python",
      "name": "python3"
    },
    "language_info": {
      "codemirror_mode": {
        "name": "ipython",
        "version": 3
      },
      "file_extension": ".py",
      "mimetype": "text/x-python",
      "name": "python",
      "nbconvert_exporter": "python",
      "pygments_lexer": "ipython3",
      "version": "3.7.13"
    },
    "colab": {
      "provenance": []
    },
    "accelerator": "GPU",
    "widgets": {
      "application/vnd.jupyter.widget-state+json": {
        "9ab6bf8e702b4e12b2dc8d7fa5e4de26": {
          "model_module": "@jupyter-widgets/controls",
          "model_name": "HBoxModel",
          "model_module_version": "1.5.0",
          "state": {
            "_dom_classes": [],
            "_model_module": "@jupyter-widgets/controls",
            "_model_module_version": "1.5.0",
            "_model_name": "HBoxModel",
            "_view_count": null,
            "_view_module": "@jupyter-widgets/controls",
            "_view_module_version": "1.5.0",
            "_view_name": "HBoxView",
            "box_style": "",
            "children": [
              "IPY_MODEL_623c8d2177064aff83a6fd63c5d1c0ff",
              "IPY_MODEL_a0bcc3bee7514cb3988077d2a3b3246c",
              "IPY_MODEL_24c83e79e3aa42ed9dcb8f822ad1bb78"
            ],
            "layout": "IPY_MODEL_cffb58842b864872bb18bc04f13e7d79"
          }
        },
        "623c8d2177064aff83a6fd63c5d1c0ff": {
          "model_module": "@jupyter-widgets/controls",
          "model_name": "HTMLModel",
          "model_module_version": "1.5.0",
          "state": {
            "_dom_classes": [],
            "_model_module": "@jupyter-widgets/controls",
            "_model_module_version": "1.5.0",
            "_model_name": "HTMLModel",
            "_view_count": null,
            "_view_module": "@jupyter-widgets/controls",
            "_view_module_version": "1.5.0",
            "_view_name": "HTMLView",
            "description": "",
            "description_tooltip": null,
            "layout": "IPY_MODEL_15eb890c9cc94f48a9351d163e987584",
            "placeholder": "​",
            "style": "IPY_MODEL_75a5e2da4bea41bf8d4b1556242fd54a",
            "value": "100%"
          }
        },
        "a0bcc3bee7514cb3988077d2a3b3246c": {
          "model_module": "@jupyter-widgets/controls",
          "model_name": "FloatProgressModel",
          "model_module_version": "1.5.0",
          "state": {
            "_dom_classes": [],
            "_model_module": "@jupyter-widgets/controls",
            "_model_module_version": "1.5.0",
            "_model_name": "FloatProgressModel",
            "_view_count": null,
            "_view_module": "@jupyter-widgets/controls",
            "_view_module_version": "1.5.0",
            "_view_name": "ProgressView",
            "bar_style": "success",
            "description": "",
            "description_tooltip": null,
            "layout": "IPY_MODEL_70722d21672b4830b0bd1c9cf7f096d1",
            "max": 170498071,
            "min": 0,
            "orientation": "horizontal",
            "style": "IPY_MODEL_2a003f3be1f842649fed9a6e20169dc2",
            "value": 170498071
          }
        },
        "24c83e79e3aa42ed9dcb8f822ad1bb78": {
          "model_module": "@jupyter-widgets/controls",
          "model_name": "HTMLModel",
          "model_module_version": "1.5.0",
          "state": {
            "_dom_classes": [],
            "_model_module": "@jupyter-widgets/controls",
            "_model_module_version": "1.5.0",
            "_model_name": "HTMLModel",
            "_view_count": null,
            "_view_module": "@jupyter-widgets/controls",
            "_view_module_version": "1.5.0",
            "_view_name": "HTMLView",
            "description": "",
            "description_tooltip": null,
            "layout": "IPY_MODEL_d48b91a1f2154e6a8c7ce35ede9e8897",
            "placeholder": "​",
            "style": "IPY_MODEL_473d211f34c94590a8b459839c473925",
            "value": " 170498071/170498071 [00:14&lt;00:00, 12627297.64it/s]"
          }
        },
        "cffb58842b864872bb18bc04f13e7d79": {
          "model_module": "@jupyter-widgets/base",
          "model_name": "LayoutModel",
          "model_module_version": "1.2.0",
          "state": {
            "_model_module": "@jupyter-widgets/base",
            "_model_module_version": "1.2.0",
            "_model_name": "LayoutModel",
            "_view_count": null,
            "_view_module": "@jupyter-widgets/base",
            "_view_module_version": "1.2.0",
            "_view_name": "LayoutView",
            "align_content": null,
            "align_items": null,
            "align_self": null,
            "border": null,
            "bottom": null,
            "display": null,
            "flex": null,
            "flex_flow": null,
            "grid_area": null,
            "grid_auto_columns": null,
            "grid_auto_flow": null,
            "grid_auto_rows": null,
            "grid_column": null,
            "grid_gap": null,
            "grid_row": null,
            "grid_template_areas": null,
            "grid_template_columns": null,
            "grid_template_rows": null,
            "height": null,
            "justify_content": null,
            "justify_items": null,
            "left": null,
            "margin": null,
            "max_height": null,
            "max_width": null,
            "min_height": null,
            "min_width": null,
            "object_fit": null,
            "object_position": null,
            "order": null,
            "overflow": null,
            "overflow_x": null,
            "overflow_y": null,
            "padding": null,
            "right": null,
            "top": null,
            "visibility": null,
            "width": null
          }
        },
        "15eb890c9cc94f48a9351d163e987584": {
          "model_module": "@jupyter-widgets/base",
          "model_name": "LayoutModel",
          "model_module_version": "1.2.0",
          "state": {
            "_model_module": "@jupyter-widgets/base",
            "_model_module_version": "1.2.0",
            "_model_name": "LayoutModel",
            "_view_count": null,
            "_view_module": "@jupyter-widgets/base",
            "_view_module_version": "1.2.0",
            "_view_name": "LayoutView",
            "align_content": null,
            "align_items": null,
            "align_self": null,
            "border": null,
            "bottom": null,
            "display": null,
            "flex": null,
            "flex_flow": null,
            "grid_area": null,
            "grid_auto_columns": null,
            "grid_auto_flow": null,
            "grid_auto_rows": null,
            "grid_column": null,
            "grid_gap": null,
            "grid_row": null,
            "grid_template_areas": null,
            "grid_template_columns": null,
            "grid_template_rows": null,
            "height": null,
            "justify_content": null,
            "justify_items": null,
            "left": null,
            "margin": null,
            "max_height": null,
            "max_width": null,
            "min_height": null,
            "min_width": null,
            "object_fit": null,
            "object_position": null,
            "order": null,
            "overflow": null,
            "overflow_x": null,
            "overflow_y": null,
            "padding": null,
            "right": null,
            "top": null,
            "visibility": null,
            "width": null
          }
        },
        "75a5e2da4bea41bf8d4b1556242fd54a": {
          "model_module": "@jupyter-widgets/controls",
          "model_name": "DescriptionStyleModel",
          "model_module_version": "1.5.0",
          "state": {
            "_model_module": "@jupyter-widgets/controls",
            "_model_module_version": "1.5.0",
            "_model_name": "DescriptionStyleModel",
            "_view_count": null,
            "_view_module": "@jupyter-widgets/base",
            "_view_module_version": "1.2.0",
            "_view_name": "StyleView",
            "description_width": ""
          }
        },
        "70722d21672b4830b0bd1c9cf7f096d1": {
          "model_module": "@jupyter-widgets/base",
          "model_name": "LayoutModel",
          "model_module_version": "1.2.0",
          "state": {
            "_model_module": "@jupyter-widgets/base",
            "_model_module_version": "1.2.0",
            "_model_name": "LayoutModel",
            "_view_count": null,
            "_view_module": "@jupyter-widgets/base",
            "_view_module_version": "1.2.0",
            "_view_name": "LayoutView",
            "align_content": null,
            "align_items": null,
            "align_self": null,
            "border": null,
            "bottom": null,
            "display": null,
            "flex": null,
            "flex_flow": null,
            "grid_area": null,
            "grid_auto_columns": null,
            "grid_auto_flow": null,
            "grid_auto_rows": null,
            "grid_column": null,
            "grid_gap": null,
            "grid_row": null,
            "grid_template_areas": null,
            "grid_template_columns": null,
            "grid_template_rows": null,
            "height": null,
            "justify_content": null,
            "justify_items": null,
            "left": null,
            "margin": null,
            "max_height": null,
            "max_width": null,
            "min_height": null,
            "min_width": null,
            "object_fit": null,
            "object_position": null,
            "order": null,
            "overflow": null,
            "overflow_x": null,
            "overflow_y": null,
            "padding": null,
            "right": null,
            "top": null,
            "visibility": null,
            "width": null
          }
        },
        "2a003f3be1f842649fed9a6e20169dc2": {
          "model_module": "@jupyter-widgets/controls",
          "model_name": "ProgressStyleModel",
          "model_module_version": "1.5.0",
          "state": {
            "_model_module": "@jupyter-widgets/controls",
            "_model_module_version": "1.5.0",
            "_model_name": "ProgressStyleModel",
            "_view_count": null,
            "_view_module": "@jupyter-widgets/base",
            "_view_module_version": "1.2.0",
            "_view_name": "StyleView",
            "bar_color": null,
            "description_width": ""
          }
        },
        "d48b91a1f2154e6a8c7ce35ede9e8897": {
          "model_module": "@jupyter-widgets/base",
          "model_name": "LayoutModel",
          "model_module_version": "1.2.0",
          "state": {
            "_model_module": "@jupyter-widgets/base",
            "_model_module_version": "1.2.0",
            "_model_name": "LayoutModel",
            "_view_count": null,
            "_view_module": "@jupyter-widgets/base",
            "_view_module_version": "1.2.0",
            "_view_name": "LayoutView",
            "align_content": null,
            "align_items": null,
            "align_self": null,
            "border": null,
            "bottom": null,
            "display": null,
            "flex": null,
            "flex_flow": null,
            "grid_area": null,
            "grid_auto_columns": null,
            "grid_auto_flow": null,
            "grid_auto_rows": null,
            "grid_column": null,
            "grid_gap": null,
            "grid_row": null,
            "grid_template_areas": null,
            "grid_template_columns": null,
            "grid_template_rows": null,
            "height": null,
            "justify_content": null,
            "justify_items": null,
            "left": null,
            "margin": null,
            "max_height": null,
            "max_width": null,
            "min_height": null,
            "min_width": null,
            "object_fit": null,
            "object_position": null,
            "order": null,
            "overflow": null,
            "overflow_x": null,
            "overflow_y": null,
            "padding": null,
            "right": null,
            "top": null,
            "visibility": null,
            "width": null
          }
        },
        "473d211f34c94590a8b459839c473925": {
          "model_module": "@jupyter-widgets/controls",
          "model_name": "DescriptionStyleModel",
          "model_module_version": "1.5.0",
          "state": {
            "_model_module": "@jupyter-widgets/controls",
            "_model_module_version": "1.5.0",
            "_model_name": "DescriptionStyleModel",
            "_view_count": null,
            "_view_module": "@jupyter-widgets/base",
            "_view_module_version": "1.2.0",
            "_view_name": "StyleView",
            "description_width": ""
          }
        }
      }
    }
  },
  "nbformat": 4,
  "nbformat_minor": 0
}